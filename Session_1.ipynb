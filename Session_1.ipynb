{
  "nbformat": 4,
  "nbformat_minor": 0,
  "metadata": {
    "colab": {
      "provenance": [],
      "authorship_tag": "ABX9TyOwQ10HKx1i+OS7SqizOrUl",
      "include_colab_link": true
    },
    "kernelspec": {
      "name": "python3",
      "display_name": "Python 3"
    },
    "language_info": {
      "name": "python"
    }
  },
  "cells": [
    {
      "cell_type": "markdown",
      "metadata": {
        "id": "view-in-github",
        "colab_type": "text"
      },
      "source": [
        "<a href=\"https://colab.research.google.com/github/leewaiching/projecteuler/blob/main/Session_1.ipynb\" target=\"_parent\"><img src=\"https://colab.research.google.com/assets/colab-badge.svg\" alt=\"Open In Colab\"/></a>"
      ]
    },
    {
      "cell_type": "markdown",
      "source": [
        "# Introduction to Python\n",
        "*   get input\n",
        "*   process\n",
        "*   output result"
      ],
      "metadata": {
        "id": "ZaanpYxPrHci"
      }
    },
    {
      "cell_type": "code",
      "execution_count": 1,
      "metadata": {
        "colab": {
          "base_uri": "https://localhost:8080/"
        },
        "id": "_15L7wJjrEVd",
        "outputId": "f96012bc-b62b-4092-b80f-a4095653c64d"
      },
      "outputs": [
        {
          "output_type": "stream",
          "name": "stdout",
          "text": [
            "Enter name:  tom\n",
            "TOM\n"
          ]
        }
      ],
      "source": [
        "# get input (comments)\n",
        "name = input (\"Enter name:  \")\n",
        "\n",
        "# process\n",
        "name = name.upper()\n",
        "\n",
        "# output result\n",
        "print (name)\n"
      ]
    },
    {
      "cell_type": "code",
      "source": [
        "# Calculate BMI (body mass index)\n",
        "\n",
        "# get weight\n",
        "weight = int(input (\"Enter weight (kg):   \")) # integer <casting>\n",
        "\n",
        "# get height\n",
        "height = float(input (\"Enter height (m):   \")) # float <number with fractional part>\n",
        "\n",
        "# compute BMI\n",
        "BMI = weight/height**2\n",
        "### format_BMI = '{:.2f}'.format(BMI)\n",
        "\n",
        "# output BMI\n",
        "print ('BMI = ', BMI)\n",
        "### print ('BMI = %0.3f'%(BMI))"
      ],
      "metadata": {
        "colab": {
          "base_uri": "https://localhost:8080/"
        },
        "id": "7Mr2ao0crgjj",
        "outputId": "955233ef-d599-4e71-bd84-aee8ffb0e1fd"
      },
      "execution_count": 24,
      "outputs": [
        {
          "output_type": "stream",
          "name": "stdout",
          "text": [
            "Enter weight (kg):   55\n",
            "Enter height (m):   1.8\n",
            "BMI =  16.975308641975307\n"
          ]
        }
      ]
    },
    {
      "cell_type": "markdown",
      "source": [
        "Shortcut to comment multiple lines: Ctrl /"
      ],
      "metadata": {
        "id": "Fj6Nc-bE9I7x"
      }
    },
    {
      "cell_type": "code",
      "source": [
        "# Multiples of 3 or 5\n",
        "# Problem 1\n",
        "# If we list all the natural numbers below 10 that are multiples of 3 or 5, \n",
        "# we get 3, 5, 6 and 9. The sum of these multiples is 23.\n",
        "# Find the sum of all the multiples of 3 or 5 below 1000.\n",
        "\n",
        "# NO input\n",
        "\n",
        "# PROCESS\n",
        "# 9 // 4 # integer division\n",
        "# 3 ** 4 # 3 power 4\n",
        "# 8 % 3 # modulus\n",
        "# 8 % 4 == 0 # booleen, RTN True\n",
        "# 8 % 3 == 0 # booleen, RTN False\n",
        "\n",
        "num = 1\n",
        "if num % 3 == 0: # 9 is multiple of 3\n",
        "  print (\"divisible\")\n",
        "else:\n",
        "  print (\"not divisible\")\n",
        "\n",
        "# (1) find multiples of 3 & 5\n",
        "# (2) sum N_3 & N_5\n",
        "\n",
        "# for i in range(1, 1000)\n",
        "# mod_3 = i % 3\n",
        "# mod_5 = j % 5\n",
        "\n",
        "\n",
        "# output\n"
      ],
      "metadata": {
        "colab": {
          "base_uri": "https://localhost:8080/"
        },
        "id": "S0qSULjR85EI",
        "outputId": "a008c3e6-e6f3-47d0-ae02-92fa9ba6a2fa"
      },
      "execution_count": 31,
      "outputs": [
        {
          "output_type": "stream",
          "name": "stdout",
          "text": [
            "not divisible\n"
          ]
        }
      ]
    },
    {
      "cell_type": "code",
      "source": [
        "# for loop\n",
        "for i in range(5):\n",
        "  print(i)"
      ],
      "metadata": {
        "colab": {
          "base_uri": "https://localhost:8080/"
        },
        "id": "R4js7oyTBeWc",
        "outputId": "c4482fc6-0162-43ba-f1fa-85f926473b05"
      },
      "execution_count": 32,
      "outputs": [
        {
          "output_type": "stream",
          "name": "stdout",
          "text": [
            "0\n",
            "1\n",
            "2\n",
            "3\n",
            "4\n"
          ]
        }
      ]
    },
    {
      "cell_type": "code",
      "source": [
        "# for loop\n",
        "\n",
        "n = 0\n",
        "for i in range(1, 1000):\n",
        "  # print(i)\n",
        "  if (i % 3 == 0) or (i % 5 == 0) : # divisible \n",
        "    n = n + i # assignment\n",
        "\n",
        "print(n)\n",
        " #  else:\n",
        " #  print(\"not divisible\")"
      ],
      "metadata": {
        "colab": {
          "base_uri": "https://localhost:8080/"
        },
        "id": "6b69jMwqDM2A",
        "outputId": "bc1adc11-5e84-46ea-d399-74df76284982"
      },
      "execution_count": 42,
      "outputs": [
        {
          "output_type": "stream",
          "name": "stdout",
          "text": [
            "233168\n"
          ]
        }
      ]
    },
    {
      "cell_type": "code",
      "source": [],
      "metadata": {
        "id": "yhj0kPjXEaQ5"
      },
      "execution_count": null,
      "outputs": []
    }
  ]
}